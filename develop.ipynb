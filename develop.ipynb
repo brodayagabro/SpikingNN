{
 "cells": [
  {
   "cell_type": "code",
   "execution_count": 4,
   "id": "fbba72f1-2b06-456a-930d-5b3d748537ce",
   "metadata": {},
   "outputs": [],
   "source": [
    "import numpy as np\n",
    "%matplotlib inline\n",
    "import warnings\n",
    "warnings.filterwarnings('ignore')\n",
    "%config InlineBackend.figure_formats = ['svg']\n",
    "\n",
    "\n"
   ]
  },
  {
   "cell_type": "code",
   "execution_count": 33,
   "id": "4c5bae3a-962c-42cb-82f1-f1bb7e38f568",
   "metadata": {},
   "outputs": [
    {
     "name": "stdout",
     "output_type": "stream",
     "text": [
      "Help on class Synapses in module __main__:\n",
      "\n",
      "class Synapses(builtins.object)\n",
      " |  Methods defined here:\n",
      " |  \n",
      " |  __init__(self)\n",
      " |      Initialize self.  See help(type(self)) for accurate signature.\n",
      " |  \n",
      " |  model(self)\n",
      " |      Synapses dynamics maths model(method).\n",
      " |  \n",
      " |  ----------------------------------------------------------------------\n",
      " |  Data descriptors defined here:\n",
      " |  \n",
      " |  __dict__\n",
      " |      dictionary for instance variables (if defined)\n",
      " |  \n",
      " |  __weakref__\n",
      " |      list of weak references to the object (if defined)\n",
      " |  \n",
      " |  ----------------------------------------------------------------------\n",
      " |  Data and other attributes defined here:\n",
      " |  \n",
      " |  __abstractmethods__ = frozenset({'__init__', 'model'})\n",
      "\n",
      "Help on class Network in module __main__:\n",
      "\n",
      "class Network(builtins.object)\n",
      " |  Network(size=1, weigths=[])\n",
      " |  \n",
      " |  Basic network class.\n",
      " |  This class is used to create the frame of network by setting weigts\n",
      " |  \n",
      " |  Methods defined here:\n",
      " |  \n",
      " |  __init__(self, size=1, weigths=[])\n",
      " |      Initialize self.  See help(type(self)) for accurate signature.\n",
      " |  \n",
      " |  ----------------------------------------------------------------------\n",
      " |  Readonly properties defined here:\n",
      " |  \n",
      " |  weigths\n",
      " |      Getting weights of the network(Property).\n",
      " |  \n",
      " |  ----------------------------------------------------------------------\n",
      " |  Data descriptors defined here:\n",
      " |  \n",
      " |  __dict__\n",
      " |      dictionary for instance variables (if defined)\n",
      " |  \n",
      " |  __weakref__\n",
      " |      list of weak references to the object (if defined)\n",
      " |  \n",
      " |  ----------------------------------------------------------------------\n",
      " |  Data and other attributes defined here:\n",
      " |  \n",
      " |  __abstractmethods__ = frozenset({'_model_'})\n",
      "\n",
      "Help on class Izhikevich_Network in module __main__:\n",
      "\n",
      "class Izhikevich_Network(Network)\n",
      " |  Izhikevich_Network(**kwargs)\n",
      " |  \n",
      " |  Basic network class.\n",
      " |  This class is used to create the frame of network by setting weigts\n",
      " |  \n",
      " |  Method resolution order:\n",
      " |      Izhikevich_Network\n",
      " |      Network\n",
      " |      builtins.object\n",
      " |  \n",
      " |  Methods defined here:\n",
      " |  \n",
      " |  __init__(self, **kwargs)\n",
      " |      Initialize self.  See help(type(self)) for accurate signature.\n",
      " |  \n",
      " |  ----------------------------------------------------------------------\n",
      " |  Data and other attributes defined here:\n",
      " |  \n",
      " |  __abstractmethods__ = frozenset()\n",
      " |  \n",
      " |  ----------------------------------------------------------------------\n",
      " |  Readonly properties inherited from Network:\n",
      " |  \n",
      " |  weigths\n",
      " |      Getting weights of the network(Property).\n",
      " |  \n",
      " |  ----------------------------------------------------------------------\n",
      " |  Data descriptors inherited from Network:\n",
      " |  \n",
      " |  __dict__\n",
      " |      dictionary for instance variables (if defined)\n",
      " |  \n",
      " |  __weakref__\n",
      " |      list of weak references to the object (if defined)\n",
      "\n"
     ]
    }
   ],
   "source": [
    "import numpy as np\n",
    "import abc\n",
    "# Basic class of Network description\n",
    "class Network(object, metaclass=abc.ABCMeta):\n",
    "    \"\"\"\n",
    "    Basic network class.\n",
    "    This class is used to create the frame of network by setting weigts\n",
    "    \"\"\"\n",
    "    def __init__(self, size=1, weigths=[]):\n",
    "        self._size_ = size;\n",
    "        self._weigths_ = weigths;\n",
    "\n",
    "\n",
    "    @property\n",
    "    def weigths(self):\n",
    "        '''Getting weights of the network(Property).'''\n",
    "        return self._weigths_\n",
    "\n",
    "    @abc.abstractmethod\n",
    "    def _model_(self):\n",
    "        '''Neuron dynamics mathematical model(method).'''\n",
    "        pass\n",
    "        \n",
    "class Synapses(object, metaclass=abc.ABCMeta):\n",
    "    @abc.abstractmethod\n",
    "    def __init__(self):\n",
    "        pass\n",
    "    @abc.abstractmethod\n",
    "    def model(self):\n",
    "        '''Synapses dynamics maths model(method).'''\n",
    "        pass\n",
    "    \n",
    "class Izhikevich_Network(Network):\n",
    "    def __init__(self, **kwargs):\n",
    "        Network.__init__(size=kwargs['size'], weigths=kwargs['weigths']);\n",
    "\n",
    "    def _model_(self, V, U, I, Isyn):\n",
    "        dV = 0.04*np.power(V, 2) + 5*V + 140 - U + I + Isyn;\n",
    "        dU = a(b*V-u)\n",
    "        \n",
    "help(Synapses)\n",
    "help(Network)\n",
    "help(Izhikevich_Network)"
   ]
  },
  {
   "cell_type": "code",
   "execution_count": 12,
   "id": "d6f02389-593a-44d1-b0bb-d6984cf8f270",
   "metadata": {},
   "outputs": [
    {
     "data": {
      "text/plain": [
       "array([[1., 0., 0., 0.],\n",
       "       [0., 2., 0., 0.],\n",
       "       [0., 0., 3., 0.],\n",
       "       [0., 0., 0., 4.]])"
      ]
     },
     "execution_count": 12,
     "metadata": {},
     "output_type": "execute_result"
    }
   ],
   "source": [
    "import numpy as np\n",
    "a = np.array([1, 2, 3, 4])\n",
    "A = np.eye(4)\n",
    "diag_view = np.einsum('ii->i', A)[:] = a\n",
    "diag_view\n",
    "A"
   ]
  },
  {
   "cell_type": "code",
   "execution_count": 14,
   "id": "6c6a4c61-d4a5-470b-805c-435974b6d55d",
   "metadata": {},
   "outputs": [
    {
     "data": {
      "text/plain": [
       "array([[0., 0.],\n",
       "       [0., 0.]])"
      ]
     },
     "execution_count": 14,
     "metadata": {},
     "output_type": "execute_result"
    }
   ],
   "source": [
    "np.zeros((10, 2, 2))[0]"
   ]
  },
  {
   "cell_type": "code",
   "execution_count": 19,
   "id": "1af6b7f6-6a15-4c26-9e0f-4670cbbb3df4",
   "metadata": {},
   "outputs": [
    {
     "data": {
      "text/plain": [
       "array([ 7, 11])"
      ]
     },
     "execution_count": 19,
     "metadata": {},
     "output_type": "execute_result"
    }
   ],
   "source": [
    "a = np.array([[1, 2], [3, 4]])\n",
    "b = np.array([[3, 4], [5, 6]])\n",
    "b.sum(axis=1\n",
    "     )"
   ]
  },
  {
   "cell_type": "code",
   "execution_count": 21,
   "id": "8d74ce83-8c81-42a7-aad3-90926dbad3e7",
   "metadata": {},
   "outputs": [
    {
     "data": {
      "text/plain": [
       "array([[ 1,  8],\n",
       "       [ 3, 16]])"
      ]
     },
     "execution_count": 21,
     "metadata": {},
     "output_type": "execute_result"
    }
   ],
   "source": [
    "W=np.array([\n",
    "    [1, 2],\n",
    "    [3, 4]\n",
    "])\n",
    "v = np.array([1, 4])\n",
    "W*v"
   ]
  },
  {
   "cell_type": "code",
   "execution_count": null,
   "id": "dba0b68a-825c-4594-ba06-04e176faca10",
   "metadata": {},
   "outputs": [],
   "source": []
  }
 ],
 "metadata": {
  "kernelspec": {
   "display_name": "Python 3",
   "language": "python",
   "name": "python3"
  },
  "language_info": {
   "codemirror_mode": {
    "name": "ipython",
    "version": 3
   },
   "file_extension": ".py",
   "mimetype": "text/x-python",
   "name": "python",
   "nbconvert_exporter": "python",
   "pygments_lexer": "ipython3",
   "version": "3.8.10"
  }
 },
 "nbformat": 4,
 "nbformat_minor": 5
}
